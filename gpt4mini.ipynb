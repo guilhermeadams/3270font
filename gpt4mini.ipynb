{
  "nbformat": 4,
  "nbformat_minor": 0,
  "metadata": {
    "colab": {
      "private_outputs": true,
      "provenance": [],
      "toc_visible": true,
      "authorship_tag": "ABX9TyOrenDycffH5sWtQXCpDqAF",
      "include_colab_link": true
    },
    "kernelspec": {
      "name": "python3",
      "display_name": "Python 3"
    },
    "language_info": {
      "name": "python"
    }
  },
  "cells": [
    {
      "cell_type": "markdown",
      "metadata": {
        "id": "view-in-github",
        "colab_type": "text"
      },
      "source": [
        "<a href=\"https://colab.research.google.com/github/guilhermeadams/3270font/blob/main/gpt4mini.ipynb\" target=\"_parent\"><img src=\"https://colab.research.google.com/assets/colab-badge.svg\" alt=\"Open In Colab\"/></a>"
      ]
    },
    {
      "cell_type": "code",
      "execution_count": null,
      "metadata": {
        "id": "qD2EQW8IGr5G"
      },
      "outputs": [],
      "source": [
        "!git clone https://github.com/guilhermeadams/MiniGPT4.git"
      ]
    },
    {
      "cell_type": "code",
      "source": [
        "cd MiniGPT4"
      ],
      "metadata": {
        "id": "yicyVWJeHG7O"
      },
      "execution_count": null,
      "outputs": []
    },
    {
      "cell_type": "code",
      "source": [
        "ls"
      ],
      "metadata": {
        "id": "gMj_IIQqHLXG"
      },
      "execution_count": null,
      "outputs": []
    },
    {
      "cell_type": "code",
      "source": [
        "!pip install -q condacolab"
      ],
      "metadata": {
        "id": "UnVzN0gJHUCJ"
      },
      "execution_count": null,
      "outputs": []
    },
    {
      "cell_type": "code",
      "source": [
        "!import condacolab\n"
      ],
      "metadata": {
        "id": "yO2c_2KVH2MU"
      },
      "execution_count": null,
      "outputs": []
    },
    {
      "cell_type": "code",
      "source": [
        "!condacolab.install()"
      ],
      "metadata": {
        "id": "8NFNqJ6JH5Fb"
      },
      "execution_count": null,
      "outputs": []
    },
    {
      "cell_type": "code",
      "source": [
        "!conda env create -f environment.yml"
      ],
      "metadata": {
        "id": "AvV6hpHvIENc"
      },
      "execution_count": null,
      "outputs": []
    },
    {
      "cell_type": "markdown",
      "source": [],
      "metadata": {
        "id": "x9DUEiNgIEA8"
      }
    },
    {
      "cell_type": "code",
      "source": [
        "!conda activate minigpt4"
      ],
      "metadata": {
        "id": "oiBlWSLoIOKf"
      },
      "execution_count": null,
      "outputs": []
    }
  ]
}